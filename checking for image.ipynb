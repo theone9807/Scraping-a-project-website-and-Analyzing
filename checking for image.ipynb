{
 "cells": [
  {
   "cell_type": "code",
   "execution_count": 2,
   "metadata": {},
   "outputs": [
    {
     "name": "stdout",
     "output_type": "stream",
     "text": [
      "http://1000projects.org/\n",
      "http://1000projects.org/about-us.html\n",
      "http://1000projects.org/java-mini-projects-for-bca-mca-and-btech.html\n",
      "http://1000projects.org/advanced-major-project-list-ece-eee.html\n",
      "http://1000projects.org/advanced-mechanical-projects.html\n",
      "http://1000projects.org/projects/net-projects\n",
      "http://1000projects.org/projects/android-mobile-applications\n",
      "http://1000projects.org/big-data-hadoop-projects-titles.html\n",
      "http://1000projects.org/internship-inplant-real-time-project-training.html\n",
      "http://1000projects.org/contact-us.html\n",
      "http://1000projects.org/online-fee-challan-generation-project-synopsis.html\n",
      "http://1000projects.org/author/nikhith\n",
      "http://1000projects.org/projects/net-projects\n",
      "http://1000projects.org/projects/abstracts\n",
      "http://1000projects.org/projects/academic-projects\n",
      "http://1000projects.org/projects/c-projects\n",
      "http://1000projects.org/projects/cse-mini-projects\n",
      "/online-fee-challan-generation-project-synopsis.html#respond\n",
      "http://1000projects.org/online-voting-system-with-aadhaar-id-and-thumb-of-a-voter.html\n",
      "http://1000projects.org/android-mobile-application-for-booking-vehicle.html\n",
      "http://1000projects.org/sales-order-processing-visual-basic-project.html/comment-page-2#comment-403041\n",
      "http://1000projects.org/spam-filter-email-program-php-cse-mini-project.html/comment-page-1#comment-403037\n",
      "http://1000projects.org/online-resume-management-net-project-synopsis.html/comment-page-1#comment-403036\n",
      "http://1000projects.org/west-bank-management-system-net-web-application-project.html/comment-page-1#comment-403033\n",
      "http://1000projects.org/art-auction-houses-data-science-project-in-python.html/comment-page-1#comment-403031\n",
      "http://1000projects.org/android-mobile-application-for-booking-vehicle.html\n",
      "http://1000projects.org/online-fee-challan-generation-project-synopsis.html\n",
      "http://1000projects.org/online-voting-system-with-aadhaar-id-and-thumb-of-a-voter.html\n",
      "http://1000projects.org/simple-android-application-project-ideas.html\n",
      "http://1000projects.org/dance-studio-web-project-synopsis.html\n",
      "http://1000projects.org/student-friendly-college-management-system.html\n",
      "http://1000projects.org/software-requirements-specification-student-management-system.html\n",
      "http://1000projects.org/student-fees-management-system-android-app.html\n",
      "http://1000projects.org/student-faculty-parent-android-application.html\n",
      "http://1000projects.org/virtual-learning-environment-java-project.html\n",
      "http://1000projects.org/online-notice-board-project-synopsis.html\n",
      "http://1000projects.org/student-project-information-synopsis.html\n",
      "http://1000projects.org/online-bonafide-certificate-generation-system-project.html\n",
      "http://1000projects.org/hall-ticket-generation-system-java-project.html\n",
      "http://1000projects.org/project-information-system-java-project.html\n",
      "http://1000projects.org/copyright-policy.html\n",
      "http://1000projects.org/\n"
     ]
    }
   ],
   "source": [
    "import pandas as pd\n",
    "from bs4 import BeautifulSoup as bs\n",
    "import requests\n",
    "d = pd.read_csv('1000projectsHome.csv')\n",
    "u = d['URLs']\n",
    "for url in u[:1]:\n",
    "    page = requests.get(url)\n",
    "    soup = bs(page.content, 'html.parser')\n",
    "    a = soup.findAll('a')\n",
    "    for h in a:\n",
    "        try:\n",
    "            print(h['href'])\n",
    "        except:\n",
    "            pass"
   ]
  },
  {
   "cell_type": "code",
   "execution_count": null,
   "metadata": {},
   "outputs": [],
   "source": []
  }
 ],
 "metadata": {
  "kernelspec": {
   "display_name": "Python 3",
   "language": "python",
   "name": "python3"
  },
  "language_info": {
   "codemirror_mode": {
    "name": "ipython",
    "version": 3
   },
   "file_extension": ".py",
   "mimetype": "text/x-python",
   "name": "python",
   "nbconvert_exporter": "python",
   "pygments_lexer": "ipython3",
   "version": "3.6.6"
  }
 },
 "nbformat": 4,
 "nbformat_minor": 2
}
